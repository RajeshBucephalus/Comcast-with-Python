{
 "cells": [
  {
   "cell_type": "code",
   "execution_count": 1,
   "id": "permanent-characterization",
   "metadata": {
    "execution": {
     "iopub.execute_input": "2021-06-23T06:04:59.608073Z",
     "iopub.status.busy": "2021-06-23T06:04:59.607087Z",
     "iopub.status.idle": "2021-06-23T06:04:59.608749Z",
     "shell.execute_reply": "2021-06-23T06:04:59.609258Z"
    },
    "papermill": {
     "duration": 0.024457,
     "end_time": "2021-06-23T06:04:59.609554",
     "exception": false,
     "start_time": "2021-06-23T06:04:59.585097",
     "status": "completed"
    },
    "tags": []
   },
   "outputs": [],
   "source": [
    "#To perform these tasks, you can use any of the different Python libraries such as NumPy, SciPy, Pandas, scikit-learn, matplotlib, and BeautifulSoup.\n",
    "\n",
    "#- Import data into Python environment.\n",
    "#- Provide the trend chart for the number of complaints at monthly and daily granularity levels.\n",
    "#- Provide a table with the frequency of complaint types.\n",
    "\n",
    "#Which complaint types are maximum i.e., around internet, network issues, or across any other domains.\n",
    "#- Create a new categorical variable with value as Open and Closed. Open & Pending is to be categorized as Open and Closed & Solved is to be categorized as Closed.\n",
    "#- Provide state wise status of complaints in a stacked bar chart. Use the categorized variable from Q3. Provide insights on:\n",
    "\n",
    "#Which state has the maximum complaints\n",
    "#Which state has the highest percentage of unresolved complaints\n",
    "#- Provide the percentage of complaints resolved till date, which were received through the Internet and customer care calls."
   ]
  },
  {
   "cell_type": "code",
   "execution_count": 2,
   "id": "theoretical-adrian",
   "metadata": {
    "_cell_guid": "b1076dfc-b9ad-4769-8c92-a6c4dae69d19",
    "_uuid": "8f2839f25d086af736a60e9eeb907d3b93b6e0e5",
    "execution": {
     "iopub.execute_input": "2021-06-23T06:04:59.646690Z",
     "iopub.status.busy": "2021-06-23T06:04:59.646003Z",
     "iopub.status.idle": "2021-06-23T06:04:59.657338Z",
     "shell.execute_reply": "2021-06-23T06:04:59.656714Z",
     "shell.execute_reply.started": "2021-06-12T16:34:09.612015Z"
    },
    "papermill": {
     "duration": 0.034615,
     "end_time": "2021-06-23T06:04:59.657497",
     "exception": false,
     "start_time": "2021-06-23T06:04:59.622882",
     "status": "completed"
    },
    "tags": []
   },
   "outputs": [
    {
     "name": "stdout",
     "output_type": "stream",
     "text": [
      "/kaggle/input/comcast-telecom-consumer-complaints/Comcast_telecom_complaints_data.csv\n",
      "/kaggle/input/comcast-telecom-consumer-complaints/Comcast Telecom Complaints data.xlsx\n"
     ]
    }
   ],
   "source": [
    "# This Python 3 environment comes with many helpful analytics libraries installed\n",
    "# It is defined by the kaggle/python Docker image: https://github.com/kaggle/docker-python\n",
    "# For example, here's several helpful packages to load\n",
    "\n",
    "import numpy as np # linear algebra\n",
    "import pandas as pd # data processing, CSV file I/O (e.g. pd.read_csv)\n",
    "\n",
    "# Input data files are available in the read-only \"../input/\" directory\n",
    "# For example, running this (by clicking run or pressing Shift+Enter) will list all files under the input directory\n",
    "\n",
    "import os\n",
    "for dirname, _, filenames in os.walk('F:\\Datascience\\Simplilearn\\5) Python for Data Science\\Customer service Database\\Project 4'):\n",
    "    for filename in filenames:\n",
    "        print(os.path.join(dirname, filename))\n",
    "\n",
    "# You can write up to 20GB to the current directory (/kaggle/working/) that gets preserved as output when you create a version using \"Save & Run All\" \n",
    "# You can also write temporary files to /kaggle/temp/, but they won't be saved outside of the current session"
   ]
  },
  {
   "cell_type": "code",
   "execution_count": 3,
   "id": "hybrid-failure",
   "metadata": {
    "execution": {
     "iopub.execute_input": "2021-06-23T06:04:59.689079Z",
     "iopub.status.busy": "2021-06-23T06:04:59.688337Z",
     "iopub.status.idle": "2021-06-23T06:04:59.691545Z",
     "shell.execute_reply": "2021-06-23T06:04:59.690980Z",
     "shell.execute_reply.started": "2021-06-12T16:34:09.62789Z"
    },
    "papermill": {
     "duration": 0.020593,
     "end_time": "2021-06-23T06:04:59.691685",
     "exception": false,
     "start_time": "2021-06-23T06:04:59.671092",
     "status": "completed"
    },
    "tags": []
   },
   "outputs": [],
   "source": [
    "import pandas as pd\n",
    "import numpy as np\n",
    "import matplotlib.pyplot as plt"
   ]
  },
  {
   "cell_type": "code",
   "execution_count": 4,
   "id": "opposed-selection",
   "metadata": {
    "execution": {
     "iopub.execute_input": "2021-06-23T06:04:59.723708Z",
     "iopub.status.busy": "2021-06-23T06:04:59.722987Z",
     "iopub.status.idle": "2021-06-23T06:04:59.749867Z",
     "shell.execute_reply": "2021-06-23T06:04:59.749286Z",
     "shell.execute_reply.started": "2021-06-12T16:34:09.635216Z"
    },
    "papermill": {
     "duration": 0.044927,
     "end_time": "2021-06-23T06:04:59.750005",
     "exception": false,
     "start_time": "2021-06-23T06:04:59.705078",
     "status": "completed"
    },
    "tags": []
   },
   "outputs": [],
   "source": [
    "## - Import data into Python environment.\n",
    "\n",
    "comcast_df=pd.read_csv(\"../input/comcast-telecom-consumer-complaints/Comcast_telecom_complaints_data.csv\")"
   ]
  },
  {
   "cell_type": "code",
   "execution_count": 5,
   "id": "cosmetic-february",
   "metadata": {
    "execution": {
     "iopub.execute_input": "2021-06-23T06:04:59.788256Z",
     "iopub.status.busy": "2021-06-23T06:04:59.787616Z",
     "iopub.status.idle": "2021-06-23T06:04:59.812310Z",
     "shell.execute_reply": "2021-06-23T06:04:59.812891Z",
     "shell.execute_reply.started": "2021-06-12T16:34:09.666775Z"
    },
    "papermill": {
     "duration": 0.04943,
     "end_time": "2021-06-23T06:04:59.813071",
     "exception": false,
     "start_time": "2021-06-23T06:04:59.763641",
     "status": "completed"
    },
    "tags": []
   },
   "outputs": [
    {
     "data": {
      "text/html": [
       "<div>\n",
       "<style scoped>\n",
       "    .dataframe tbody tr th:only-of-type {\n",
       "        vertical-align: middle;\n",
       "    }\n",
       "\n",
       "    .dataframe tbody tr th {\n",
       "        vertical-align: top;\n",
       "    }\n",
       "\n",
       "    .dataframe thead th {\n",
       "        text-align: right;\n",
       "    }\n",
       "</style>\n",
       "<table border=\"1\" class=\"dataframe\">\n",
       "  <thead>\n",
       "    <tr style=\"text-align: right;\">\n",
       "      <th></th>\n",
       "      <th>Ticket #</th>\n",
       "      <th>Customer Complaint</th>\n",
       "      <th>Date</th>\n",
       "      <th>Date_month_year</th>\n",
       "      <th>Time</th>\n",
       "      <th>Received Via</th>\n",
       "      <th>City</th>\n",
       "      <th>State</th>\n",
       "      <th>Zip code</th>\n",
       "      <th>Status</th>\n",
       "      <th>Filing on Behalf of Someone</th>\n",
       "    </tr>\n",
       "  </thead>\n",
       "  <tbody>\n",
       "    <tr>\n",
       "      <th>0</th>\n",
       "      <td>250635</td>\n",
       "      <td>Comcast Cable Internet Speeds</td>\n",
       "      <td>22-04-15</td>\n",
       "      <td>22-Apr-15</td>\n",
       "      <td>3:53:50 PM</td>\n",
       "      <td>Customer Care Call</td>\n",
       "      <td>Abingdon</td>\n",
       "      <td>Maryland</td>\n",
       "      <td>21009</td>\n",
       "      <td>Closed</td>\n",
       "      <td>No</td>\n",
       "    </tr>\n",
       "    <tr>\n",
       "      <th>1</th>\n",
       "      <td>223441</td>\n",
       "      <td>Payment disappear - service got disconnected</td>\n",
       "      <td>04-08-15</td>\n",
       "      <td>04-Aug-15</td>\n",
       "      <td>10:22:56 AM</td>\n",
       "      <td>Internet</td>\n",
       "      <td>Acworth</td>\n",
       "      <td>Georgia</td>\n",
       "      <td>30102</td>\n",
       "      <td>Closed</td>\n",
       "      <td>No</td>\n",
       "    </tr>\n",
       "    <tr>\n",
       "      <th>2</th>\n",
       "      <td>242732</td>\n",
       "      <td>Speed and Service</td>\n",
       "      <td>18-04-15</td>\n",
       "      <td>18-Apr-15</td>\n",
       "      <td>9:55:47 AM</td>\n",
       "      <td>Internet</td>\n",
       "      <td>Acworth</td>\n",
       "      <td>Georgia</td>\n",
       "      <td>30101</td>\n",
       "      <td>Closed</td>\n",
       "      <td>Yes</td>\n",
       "    </tr>\n",
       "  </tbody>\n",
       "</table>\n",
       "</div>"
      ],
      "text/plain": [
       "  Ticket #                            Customer Complaint      Date  \\\n",
       "0   250635                 Comcast Cable Internet Speeds  22-04-15   \n",
       "1   223441  Payment disappear - service got disconnected  04-08-15   \n",
       "2   242732                             Speed and Service  18-04-15   \n",
       "\n",
       "  Date_month_year         Time        Received Via      City     State  \\\n",
       "0       22-Apr-15   3:53:50 PM  Customer Care Call  Abingdon  Maryland   \n",
       "1       04-Aug-15  10:22:56 AM            Internet   Acworth   Georgia   \n",
       "2       18-Apr-15   9:55:47 AM            Internet   Acworth   Georgia   \n",
       "\n",
       "   Zip code  Status Filing on Behalf of Someone  \n",
       "0     21009  Closed                          No  \n",
       "1     30102  Closed                          No  \n",
       "2     30101  Closed                         Yes  "
      ]
     },
     "execution_count": 5,
     "metadata": {},
     "output_type": "execute_result"
    }
   ],
   "source": [
    "comcast_df.head(3)  ##  data view"
   ]
  },
  {
   "cell_type": "code",
   "execution_count": 6,
   "id": "spare-married",
   "metadata": {
    "execution": {
     "iopub.execute_input": "2021-06-23T06:04:59.852296Z",
     "iopub.status.busy": "2021-06-23T06:04:59.851274Z",
     "iopub.status.idle": "2021-06-23T06:04:59.864576Z",
     "shell.execute_reply": "2021-06-23T06:04:59.864039Z",
     "shell.execute_reply.started": "2021-06-12T16:34:09.687842Z"
    },
    "papermill": {
     "duration": 0.037641,
     "end_time": "2021-06-23T06:04:59.864724",
     "exception": false,
     "start_time": "2021-06-23T06:04:59.827083",
     "status": "completed"
    },
    "tags": []
   },
   "outputs": [
    {
     "data": {
      "text/html": [
       "<div>\n",
       "<style scoped>\n",
       "    .dataframe tbody tr th:only-of-type {\n",
       "        vertical-align: middle;\n",
       "    }\n",
       "\n",
       "    .dataframe tbody tr th {\n",
       "        vertical-align: top;\n",
       "    }\n",
       "\n",
       "    .dataframe thead th {\n",
       "        text-align: right;\n",
       "    }\n",
       "</style>\n",
       "<table border=\"1\" class=\"dataframe\">\n",
       "  <thead>\n",
       "    <tr style=\"text-align: right;\">\n",
       "      <th></th>\n",
       "      <th>Zip code</th>\n",
       "    </tr>\n",
       "  </thead>\n",
       "  <tbody>\n",
       "    <tr>\n",
       "      <th>count</th>\n",
       "      <td>2224.000000</td>\n",
       "    </tr>\n",
       "    <tr>\n",
       "      <th>mean</th>\n",
       "      <td>47994.393435</td>\n",
       "    </tr>\n",
       "    <tr>\n",
       "      <th>std</th>\n",
       "      <td>28885.279427</td>\n",
       "    </tr>\n",
       "    <tr>\n",
       "      <th>min</th>\n",
       "      <td>1075.000000</td>\n",
       "    </tr>\n",
       "    <tr>\n",
       "      <th>25%</th>\n",
       "      <td>30056.500000</td>\n",
       "    </tr>\n",
       "    <tr>\n",
       "      <th>50%</th>\n",
       "      <td>37211.000000</td>\n",
       "    </tr>\n",
       "    <tr>\n",
       "      <th>75%</th>\n",
       "      <td>77058.750000</td>\n",
       "    </tr>\n",
       "    <tr>\n",
       "      <th>max</th>\n",
       "      <td>99223.000000</td>\n",
       "    </tr>\n",
       "  </tbody>\n",
       "</table>\n",
       "</div>"
      ],
      "text/plain": [
       "           Zip code\n",
       "count   2224.000000\n",
       "mean   47994.393435\n",
       "std    28885.279427\n",
       "min     1075.000000\n",
       "25%    30056.500000\n",
       "50%    37211.000000\n",
       "75%    77058.750000\n",
       "max    99223.000000"
      ]
     },
     "execution_count": 6,
     "metadata": {},
     "output_type": "execute_result"
    }
   ],
   "source": [
    "comcast_df.describe()  ## Discribtion"
   ]
  },
  {
   "cell_type": "code",
   "execution_count": 7,
   "id": "transsexual-blond",
   "metadata": {
    "execution": {
     "iopub.execute_input": "2021-06-23T06:04:59.908168Z",
     "iopub.status.busy": "2021-06-23T06:04:59.902777Z",
     "iopub.status.idle": "2021-06-23T06:05:00.413687Z",
     "shell.execute_reply": "2021-06-23T06:05:00.414161Z",
     "shell.execute_reply.started": "2021-06-12T16:34:09.70073Z"
    },
    "papermill": {
     "duration": 0.535105,
     "end_time": "2021-06-23T06:05:00.414344",
     "exception": false,
     "start_time": "2021-06-23T06:04:59.879239",
     "status": "completed"
    },
    "tags": []
   },
   "outputs": [
    {
     "data": {
      "image/png": "[encoded data removed]",
      "text/plain": [
       "<Figure size 432x288 with 1 Axes>"
      ]
     },
     "metadata": {
      "needs_background": "light"
     },
     "output_type": "display_data"
    },
    {
     "data": {
      "image/png": "[encoded data removed]",
      "text/plain": [
       "<Figure size 432x288 with 1 Axes>"
      ]
     },
     "metadata": {
      "needs_background": "light"
     },
     "output_type": "display_data"
    }
   ],
   "source": [
    "## - Provide the trend chart for the number of complaints at monthly and daily granularity levels.\n",
    "\n",
    "comcast_df['Month']=pd.to_datetime(comcast_df['Date_month_year']).dt.month_name()\n",
    "comcast_df['Date']=pd.to_datetime(comcast_df['Date_month_year']).dt.day\n",
    "\n",
    "## Graph for date wise\n",
    "comcast_df.groupby(['Date'])['Customer Complaint'].count().plot(kind='bar',color=\"lightgreen\",edgecolor=\"darkgreen\",)\n",
    "plt.show()\n",
    "\n",
    "## Graph for month wise\n",
    "comcast_df.groupby(['Month'])['Customer Complaint'].count().plot(kind='bar',color=\"yellow\",edgecolor=\"orange\")\n",
    "plt.show()"
   ]
  },
  {
   "cell_type": "code",
   "execution_count": 8,
   "id": "metropolitan-canberra",
   "metadata": {
    "execution": {
     "iopub.execute_input": "2021-06-23T06:05:00.452865Z",
     "iopub.status.busy": "2021-06-23T06:05:00.452218Z",
     "iopub.status.idle": "2021-06-23T06:05:00.466297Z",
     "shell.execute_reply": "2021-06-23T06:05:00.465768Z",
     "shell.execute_reply.started": "2021-06-12T16:34:10.1136Z"
    },
    "papermill": {
     "duration": 0.036299,
     "end_time": "2021-06-23T06:05:00.466471",
     "exception": false,
     "start_time": "2021-06-23T06:05:00.430172",
     "status": "completed"
    },
    "tags": []
   },
   "outputs": [
    {
     "data": {
      "text/html": [
       "<div>\n",
       "<style scoped>\n",
       "    .dataframe tbody tr th:only-of-type {\n",
       "        vertical-align: middle;\n",
       "    }\n",
       "\n",
       "    .dataframe tbody tr th {\n",
       "        vertical-align: top;\n",
       "    }\n",
       "\n",
       "    .dataframe thead th {\n",
       "        text-align: right;\n",
       "    }\n",
       "</style>\n",
       "<table border=\"1\" class=\"dataframe\">\n",
       "  <thead>\n",
       "    <tr style=\"text-align: right;\">\n",
       "      <th></th>\n",
       "      <th>index</th>\n",
       "      <th>Customer Complaint</th>\n",
       "    </tr>\n",
       "  </thead>\n",
       "  <tbody>\n",
       "    <tr>\n",
       "      <th>0</th>\n",
       "      <td>Comcast</td>\n",
       "      <td>83</td>\n",
       "    </tr>\n",
       "    <tr>\n",
       "      <th>1</th>\n",
       "      <td>Comcast Internet</td>\n",
       "      <td>18</td>\n",
       "    </tr>\n",
       "    <tr>\n",
       "      <th>2</th>\n",
       "      <td>Comcast Data Cap</td>\n",
       "      <td>17</td>\n",
       "    </tr>\n",
       "    <tr>\n",
       "      <th>3</th>\n",
       "      <td>comcast</td>\n",
       "      <td>13</td>\n",
       "    </tr>\n",
       "    <tr>\n",
       "      <th>4</th>\n",
       "      <td>Data Caps</td>\n",
       "      <td>11</td>\n",
       "    </tr>\n",
       "    <tr>\n",
       "      <th>...</th>\n",
       "      <td>...</td>\n",
       "      <td>...</td>\n",
       "    </tr>\n",
       "    <tr>\n",
       "      <th>1836</th>\n",
       "      <td>double billing after change of service</td>\n",
       "      <td>1</td>\n",
       "    </tr>\n",
       "    <tr>\n",
       "      <th>1837</th>\n",
       "      <td>Comcast Does Not Deliver Service</td>\n",
       "      <td>1</td>\n",
       "    </tr>\n",
       "    <tr>\n",
       "      <th>1838</th>\n",
       "      <td>Possible Speed Throttling: Comcast Xfinity Ric...</td>\n",
       "      <td>1</td>\n",
       "    </tr>\n",
       "    <tr>\n",
       "      <th>1839</th>\n",
       "      <td>Billing Over Charges</td>\n",
       "      <td>1</td>\n",
       "    </tr>\n",
       "    <tr>\n",
       "      <th>1840</th>\n",
       "      <td>Comcast blocking HBOGO on Playstation 4 Consoles</td>\n",
       "      <td>1</td>\n",
       "    </tr>\n",
       "  </tbody>\n",
       "</table>\n",
       "<p>1841 rows × 2 columns</p>\n",
       "</div>"
      ],
      "text/plain": [
       "                                                  index  Customer Complaint\n",
       "0                                               Comcast                  83\n",
       "1                                      Comcast Internet                  18\n",
       "2                                      Comcast Data Cap                  17\n",
       "3                                               comcast                  13\n",
       "4                                             Data Caps                  11\n",
       "...                                                 ...                 ...\n",
       "1836             double billing after change of service                   1\n",
       "1837                   Comcast Does Not Deliver Service                   1\n",
       "1838  Possible Speed Throttling: Comcast Xfinity Ric...                   1\n",
       "1839                               Billing Over Charges                   1\n",
       "1840   Comcast blocking HBOGO on Playstation 4 Consoles                   1\n",
       "\n",
       "[1841 rows x 2 columns]"
      ]
     },
     "execution_count": 8,
     "metadata": {},
     "output_type": "execute_result"
    }
   ],
   "source": [
    "## - Provide a table with the frequency of complaint types.\n",
    "\n",
    "comcast_df['Customer Complaint'].value_counts().to_frame().reset_index()"
   ]
  },
  {
   "cell_type": "code",
   "execution_count": 9,
   "id": "urban-agency",
   "metadata": {
    "execution": {
     "iopub.execute_input": "2021-06-23T06:05:00.505528Z",
     "iopub.status.busy": "2021-06-23T06:05:00.504840Z",
     "iopub.status.idle": "2021-06-23T06:05:00.509871Z",
     "shell.execute_reply": "2021-06-23T06:05:00.510427Z",
     "shell.execute_reply.started": "2021-06-12T16:34:10.129819Z"
    },
    "papermill": {
     "duration": 0.027809,
     "end_time": "2021-06-23T06:05:00.510625",
     "exception": false,
     "start_time": "2021-06-23T06:05:00.482816",
     "status": "completed"
    },
    "tags": []
   },
   "outputs": [
    {
     "data": {
      "text/plain": [
       "Comcast             83\n",
       "Comcast Internet    18\n",
       "Comcast Data Cap    17\n",
       "comcast             13\n",
       "Data Caps           11\n",
       "Name: Customer Complaint, dtype: int64"
      ]
     },
     "execution_count": 9,
     "metadata": {},
     "output_type": "execute_result"
    }
   ],
   "source": [
    "## - Which complaint types are maximum i.e., around internet, network issues, or across any other domains.\n",
    "comcast_df['Customer Complaint'].value_counts().head(5)"
   ]
  },
  {
   "cell_type": "code",
   "execution_count": 10,
   "id": "educational-oriental",
   "metadata": {
    "execution": {
     "iopub.execute_input": "2021-06-23T06:05:00.546586Z",
     "iopub.status.busy": "2021-06-23T06:05:00.545940Z",
     "iopub.status.idle": "2021-06-23T06:05:00.552885Z",
     "shell.execute_reply": "2021-06-23T06:05:00.552285Z",
     "shell.execute_reply.started": "2021-06-12T16:34:10.14471Z"
    },
    "papermill": {
     "duration": 0.025961,
     "end_time": "2021-06-23T06:05:00.553031",
     "exception": false,
     "start_time": "2021-06-23T06:05:00.527070",
     "status": "completed"
    },
    "tags": []
   },
   "outputs": [],
   "source": [
    "## - Create a new categorical variable with value as Open and Closed. Open & Pending is to be categorized as Open and \n",
    "## Closed & Solved is to be categorized as Closed.\n",
    "\n",
    "comcast_df['Status']=comcast_df['Status'].apply(lambda x: 'Open' if ((x=='Open') | (x=='Pending')) else 'Closed')"
   ]
  },
  {
   "cell_type": "code",
   "execution_count": 11,
   "id": "junior-stadium",
   "metadata": {
    "execution": {
     "iopub.execute_input": "2021-06-23T06:05:00.599292Z",
     "iopub.status.busy": "2021-06-23T06:05:00.594246Z",
     "iopub.status.idle": "2021-06-23T06:05:01.294347Z",
     "shell.execute_reply": "2021-06-23T06:05:01.293641Z",
     "shell.execute_reply.started": "2021-06-12T16:34:10.156179Z"
    },
    "papermill": {
     "duration": 0.724787,
     "end_time": "2021-06-23T06:05:01.294515",
     "exception": false,
     "start_time": "2021-06-23T06:05:00.569728",
     "status": "completed"
    },
    "tags": []
   },
   "outputs": [
    {
     "data": {
      "image/png": "[encoded data removed]",
      "text/plain": [
       "<Figure size 1080x1080 with 1 Axes>"
      ]
     },
     "metadata": {
      "needs_background": "light"
     },
     "output_type": "display_data"
    }
   ],
   "source": [
    "## - Provide state wise status of complaints in a stacked bar chart. Use the categorized variable from Q3.\n",
    "opn=comcast_df[comcast_df['Status']=='Open'].groupby(['State'])['Status'].count().to_frame().reset_index()\n",
    "clos=comcast_df[comcast_df['Status']=='Closed'].groupby(['State'])['Status'].count().to_frame().reset_index()\n",
    "\n",
    "fig=plt.figure(figsize=(15,15))\n",
    "plt.barh(clos.State, clos.Status)\n",
    "plt.barh(opn.State, opn.Status)\n",
    "plt.ylabel(\"State\")\n",
    "plt.xlabel(\"Status Count\")\n",
    "plt.legend([\"closed\", \"open\"])\n",
    "plt.title(\"State wise Status Count\")\n",
    "\n",
    "plt.show()\n"
   ]
  },
  {
   "cell_type": "code",
   "execution_count": 12,
   "id": "selected-polls",
   "metadata": {
    "execution": {
     "iopub.execute_input": "2021-06-23T06:05:01.340615Z",
     "iopub.status.busy": "2021-06-23T06:05:01.339610Z",
     "iopub.status.idle": "2021-06-23T06:05:01.343883Z",
     "shell.execute_reply": "2021-06-23T06:05:01.343360Z",
     "shell.execute_reply.started": "2021-06-12T16:34:10.841031Z"
    },
    "papermill": {
     "duration": 0.031018,
     "end_time": "2021-06-23T06:05:01.344027",
     "exception": false,
     "start_time": "2021-06-23T06:05:01.313009",
     "status": "completed"
    },
    "tags": []
   },
   "outputs": [
    {
     "data": {
      "text/plain": [
       "State\n",
       "Georgia    288\n",
       "Name: Customer Complaint, dtype: int64"
      ]
     },
     "execution_count": 12,
     "metadata": {},
     "output_type": "execute_result"
    }
   ],
   "source": [
    "## Which state has the maximum complaints\n",
    "\n",
    "comcast_df.groupby(\"State\")['Customer Complaint'].agg(\"count\").sort_values(ascending=False).head(1)"
   ]
  },
  {
   "cell_type": "code",
   "execution_count": 13,
   "id": "consistent-simulation",
   "metadata": {
    "execution": {
     "iopub.execute_input": "2021-06-23T06:05:01.390973Z",
     "iopub.status.busy": "2021-06-23T06:05:01.387936Z",
     "iopub.status.idle": "2021-06-23T06:05:01.415175Z",
     "shell.execute_reply": "2021-06-23T06:05:01.414397Z",
     "shell.execute_reply.started": "2021-06-12T16:34:10.85279Z"
    },
    "papermill": {
     "duration": 0.052736,
     "end_time": "2021-06-23T06:05:01.415319",
     "exception": false,
     "start_time": "2021-06-23T06:05:01.362583",
     "status": "completed"
    },
    "tags": []
   },
   "outputs": [
    {
     "data": {
      "text/plain": [
       "State  \n",
       "Georgia    15.473888\n",
       "dtype: float64"
      ]
     },
     "execution_count": 13,
     "metadata": {},
     "output_type": "execute_result"
    }
   ],
   "source": [
    "## Which state has the highest percentage of unresolved complaints\n",
    "\n",
    "State_Unsolved=comcast_df.loc[comcast_df['Status']=='Open',['State']].value_counts()\n",
    "State_Unsolved.head(1)/State_Unsolved.sum()*100"
   ]
  },
  {
   "cell_type": "code",
   "execution_count": 14,
   "id": "guided-curve",
   "metadata": {
    "execution": {
     "iopub.execute_input": "2021-06-23T06:05:01.459571Z",
     "iopub.status.busy": "2021-06-23T06:05:01.458731Z",
     "iopub.status.idle": "2021-06-23T06:05:01.469206Z",
     "shell.execute_reply": "2021-06-23T06:05:01.468533Z",
     "shell.execute_reply.started": "2021-06-12T16:34:10.882706Z"
    },
    "papermill": {
     "duration": 0.034862,
     "end_time": "2021-06-23T06:05:01.469349",
     "exception": false,
     "start_time": "2021-06-23T06:05:01.434487",
     "status": "completed"
    },
    "tags": []
   },
   "outputs": [
    {
     "data": {
      "text/plain": [
       "Status  Received Via      \n",
       "Closed  Customer Care Call    50.615114\n",
       "        Internet              49.384886\n",
       "Name: Received Via, dtype: float64"
      ]
     },
     "execution_count": 14,
     "metadata": {},
     "output_type": "execute_result"
    }
   ],
   "source": [
    "# Provide the percentage of complaints resolved till date, which were received through the Internet and customer care calls.\n",
    "comcast_df[comcast_df['Status']=='Closed'].groupby('Status')['Received Via'].value_counts(normalize=True)*100"
   ]
  },
  {
   "cell_type": "code",
   "execution_count": 15,
   "id": "amino-morgan",
   "metadata": {
    "execution": {
     "iopub.execute_input": "2021-06-23T06:05:01.512503Z",
     "iopub.status.busy": "2021-06-23T06:05:01.511800Z",
     "iopub.status.idle": "2021-06-23T06:05:01.514643Z",
     "shell.execute_reply": "2021-06-23T06:05:01.514008Z"
    },
    "papermill": {
     "duration": 0.026108,
     "end_time": "2021-06-23T06:05:01.514786",
     "exception": false,
     "start_time": "2021-06-23T06:05:01.488678",
     "status": "completed"
    },
    "tags": []
   },
   "outputs": [],
   "source": [
    "# Thank You."
   ]
  }
 ],
 "metadata": {
  "kernelspec": {
   "display_name": "Python 3 (ipykernel)",
   "language": "python",
   "name": "python3"
  },
  "language_info": {
   "codemirror_mode": {
    "name": "ipython",
    "version": 3
   },
   "file_extension": ".py",
   "mimetype": "text/x-python",
   "name": "python",
   "nbconvert_exporter": "python",
   "pygments_lexer": "ipython3",
   "version": "3.9.12"
  },
  "papermill": {
   "default_parameters": {},
   "duration": 11.858984,
   "end_time": "2021-06-23T06:05:03.103546",
   "environment_variables": {},
   "exception": null,
   "input_path": "__notebook__.ipynb",
   "output_path": "__notebook__.ipynb",
   "parameters": {},
   "start_time": "2021-06-23T06:04:51.244562",
   "version": "2.3.3"
  }
 },
 "nbformat": 4,
 "nbformat_minor": 5
}
